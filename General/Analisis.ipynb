{
 "cells": [
  {
   "cell_type": "code",
   "execution_count": null,
   "metadata": {},
   "outputs": [],
   "source": [
    "# %matplotlib ipympl\n",
    "import matplotlib.pyplot as plt\n",
    "import numpy as np \n",
    "import pandas as pd\n",
    "from scipy.optimize import curve_fit"
   ]
  },
  {
   "cell_type": "markdown",
   "metadata": {},
   "source": [
    "## Funciones generales"
   ]
  },
  {
   "cell_type": "code",
   "execution_count": null,
   "metadata": {},
   "outputs": [],
   "source": [
    "#Da el espectro identificando los primeros máximos sin analizar\n",
    "def Spectrum(datax,datay,intensity,num):\n",
    "    marker_x = []\n",
    "    marker_y = []\n",
    "    index_y = []\n",
    "    index_x = []\n",
    "    anotaciones = []\n",
    "\n",
    "    for i in range(0,len(datax)):\n",
    "        mark = i\n",
    "\n",
    "        if mark != 0 and mark != len(datax)-1:\n",
    "            last = datay[mark - 1]\n",
    "            next = datay[mark + 1]\n",
    "\n",
    "            #Hallar máximos de espectro\n",
    "            if (last < datay[i]) and (next < datay[i]) and (datay[i]>intensity):\n",
    "                marker_x.append(datax[i])\n",
    "                marker_y.append(datay[i])\n",
    "\n",
    "                index_y.append( datay[i-num:i+num] )\n",
    "                index_x.append( datax[i-num:i+num] )\n",
    "\n",
    "                anotaciones.append(str(datax[i]))\n",
    "                \n",
    "    return marker_x,marker_y,index_x,index_y,anotaciones\n",
    "\n",
    "\n",
    "#Procesa el archivo txt de datos, inten se refiere a la intensidad mínima para buscar y num a la cantidad de puntos alrededor de la lorentziana\n",
    "def DataProcess(l,inten,num):\n",
    "    data = pd.read_csv(l, delimiter=' ')\n",
    "    pixel = np.array(data['P'])\n",
    "    intensidad = np.array(data['I'])\n",
    "\n",
    "    marker_x,marker_y, index_x,index_y,anotaciones = Spectrum(pixel,intensidad,inten,num)\n",
    "    \n",
    "    return pixel,intensidad,marker_x,marker_y, index_x,index_y,anotaciones\n",
    "\n",
    "\n",
    "#Retira aquellas líneas que no aparecen en el catálogo o no ayudan a la obtención de la lorentziana\n",
    "def DataCatalogue(pixs,marker_x,marker_y, index_x,index_y,anotaciones):\n",
    "    mar_x = []\n",
    "    mar_y = []\n",
    "    ind_y = []\n",
    "    ind_x = []\n",
    "    anot = []\n",
    "   \n",
    "\n",
    "    for i in range(0,len(marker_x)):\n",
    "        if marker_x[i] not in pixs:\n",
    "            mar_x.append(marker_x[i])\n",
    "            mar_y.append(marker_y[i])\n",
    "            ind_x.append(index_x[i])\n",
    "            ind_y.append(index_y[i])\n",
    "            anot.append(anotaciones[i])\n",
    "\n",
    "    return mar_x,mar_y, ind_x,ind_y,anot\n",
    "\n",
    "\n",
    "#Función Lorentziana\n",
    "def Lorentzian(x,h,x0,W):\n",
    "    return h*W**2/((x-x0)**2+W**2)\n",
    "\n",
    "\n",
    "#Realiza el ajuste Lorentziano sobre el espectro catalogado\n",
    "def AjusteLorentz(i,index_x, index_y):\n",
    "    x = index_x[i]\n",
    "    y = index_y[i] \n",
    "    x_1 = np.linspace(x[0],x[-1],500 )\n",
    "\n",
    "    popt, _ = curve_fit(Lorentzian,x,y) \n",
    "    h = popt[0]\n",
    "    x0 = popt[1]\n",
    "    w = popt[2]\n",
    "\n",
    "    fit_y= Lorentzian(x_1,h,x0,w)\n",
    "\n",
    "    return x0,h,fit_y,x_1, x, y\n",
    "\n",
    "\n",
    "#Devuelve el DataFrame con los píxeles calculados\n",
    "def MakeDataFrame(rango,catalog_long,index_x, index_y):\n",
    "\n",
    "    Datafit = pd.DataFrame()\n",
    "    lineasfit = []\n",
    "    alturafit = []\n",
    "\n",
    "    for i in range(0,rango):\n",
    "        linea,altura, fity, fitx, x, y = AjusteLorentz(i,index_x, index_y)\n",
    "        lineasfit.append(linea)\n",
    "        alturafit.append(altura)\n",
    "    \n",
    "\n",
    "    Datafit['Pixel'] = lineasfit\n",
    "    Datafit['Intensidad'] = alturafit\n",
    "    Datafit['Catalogo longitud'] = catalog_long\n",
    "\n",
    "    return Datafit\n",
    "\n",
    "#Obtener la regresion lineal\n",
    "def LinearFit(datax,datay,n):\n",
    "    param = np.polyfit(datax,datay, n)\n",
    "    xm = np.linspace(min(datax),max(datax),len(datax))\n",
    "    ym = np.polyval(param, xm)\n",
    "    xres = datax\n",
    "    ye = np.polyval(param, datax)\n",
    "    res = ye - datay\n",
    "\n",
    "    return ym,xm,res,xres,param\n",
    "\n",
    "#Obtener la calibración de las lineas sospechosas\n",
    "def LineasSus(pixs,param):\n",
    "    Data = pd.DataFrame()\n",
    "    Data['Pixel'] = pixs\n",
    "    Orden1 = []\n",
    "    Orden2 = []\n",
    "    Orden3 = []\n",
    "    for i in pixs:\n",
    "        Orden1.append(np.polyval(param,i)*2)\n",
    "        Orden2.append(np.polyval(param,i)) \n",
    "        Orden3.append(np.polyval(param,i)*(2/3)) \n",
    "    \n",
    "    Data['Calibracion orden 1'] = Orden1\n",
    "    Data['Calibracion orden 2'] = Orden2\n",
    "    Data['Calibracion orden 3'] = Orden3\n",
    "\n",
    "    return Data\n",
    "\n",
    "#Convertir DataFrame a tabla de Latex\n",
    "# print(DataFit_1.to_latex(index=False))\n",
    "\n",
    "# Linea para guardar la imagen de un fig\n",
    "#fig2.savefig('th 6200 orden 2 espectro tratado.jpg')"
   ]
  },
  {
   "cell_type": "markdown",
   "metadata": {},
   "source": [
    "## Análisis"
   ]
  },
  {
   "cell_type": "markdown",
   "metadata": {},
   "source": [
    "### Para intensidades grandes > 525"
   ]
  },
  {
   "cell_type": "code",
   "execution_count": null,
   "metadata": {},
   "outputs": [],
   "source": [
    "# pixel,intensidad,marker_x,marker_y, index_x,index_y,anotaciones = DataProcess(r\"C:\\Users\\clauw\\Documents\\Programming\\Torium-Operation\\th 6200 orden 2 spec.txt\", 525, 7)\n",
    "\n",
    "# #Grafica para ver el espectro completo y cuadrar hasta qué intensidad mirar\n",
    "# fig1, ax1 = plt.subplots(1,1, figsize=(12,7))\n",
    "# ax1.plot(pixel,intensidad)\n",
    "# ax1.scatter(marker_x,marker_y,marker='.',color = 'red')\n",
    "# ax1.set_title('Espectro obtenido sin catalogar')\n",
    "# ax1.set_xlabel('Pixel')\n",
    "# ax1.set_ylabel('Intensidad')\n",
    "# ax1.grid()\n",
    "# for i, label in enumerate(anotaciones):\n",
    "#     plt.annotate(label, (marker_x[i] + 0.1, marker_y[i]))"
   ]
  },
  {
   "cell_type": "code",
   "execution_count": null,
   "metadata": {},
   "outputs": [],
   "source": [
    "# #Lista de pixeles que se descartan al no estar en el espectro\n",
    "# Pixnon_1 = []\n",
    "\n",
    "# #Se obtiene el espectro limpio sin los píxeles diferentes\n",
    "# marker_xl,marker_yl, index_xl,index_yl,anotacionesl = DataCatalogue(Pixnon_1,marker_x,marker_y, index_x,index_y,anotaciones)\n",
    "    \n",
    "# #Grafica del espectro sin las líneas que no pertenecen  \n",
    "# fig2, ax2 = plt.subplots(1,1, figsize=(12,7))\n",
    "# ax2.plot(pixel,intensidad)\n",
    "# ax2.scatter(marker_xl,marker_yl,marker='.',color = 'red')\n",
    "# ax2.set_title('Espectro obtenido catalogado')\n",
    "# ax2.set_xlabel('Pixel')\n",
    "# ax2.set_ylabel('Intensidad')\n",
    "# ax2.grid()\n",
    "# for i, label in enumerate(anotacionesl):\n",
    "#     plt.annotate(label, (marker_xl[i] + 0.1, marker_yl[i]))\n"
   ]
  },
  {
   "cell_type": "code",
   "execution_count": null,
   "metadata": {},
   "outputs": [],
   "source": [
    "# #Longitudes de onda observadas en el catalogo de los píxeles que sí se lograron ver, ingreso manual\n",
    "# catalog_long_1 = [  ]\n",
    "\n",
    "# #Lista de líneas sospechosas que sí están en el espectro pero no catalogadas\n",
    "# Pixesp_1 = [    ]\n",
    "\n",
    "# #Lista de líneas completamente sospechosas \n",
    "# Pixsus_1 = [    ]\n",
    "\n",
    "# #Unir dataframes de líneas en el catalogo\n",
    "# DataFit_1 = MakeDataFrame(len(marker_xl),catalog_long_1,index_xl, index_yl)\n",
    "# DataFit_1"
   ]
  },
  {
   "cell_type": "markdown",
   "metadata": {},
   "source": [
    "### Para líneas con intensidades pequeñas < 525"
   ]
  },
  {
   "cell_type": "code",
   "execution_count": null,
   "metadata": {},
   "outputs": [],
   "source": [
    "# pixel,intensidad,marker_x_,marker_y_, index_x_,index_y_,anotaciones_ = DataProcess(r\"C:\\Users\\clauw\\Documents\\Programming\\Torium-Operation\\th 6200 orden 2 spec.txt\", 525, 7)\n",
    "\n",
    "# #Grafica para ver el espectro completo y cuadrar hasta qué intensidad mirar\n",
    "# fig1, ax1 = plt.subplots(1,1, figsize=(12,7))\n",
    "# ax1.plot(pixel,intensidad)\n",
    "# ax1.scatter(marker_x_,marker_y_,marker='.',color = 'red')\n",
    "# ax1.set_title('Espectro obtenido sin catalogar')\n",
    "# ax1.set_xlabel('Pixel')\n",
    "# ax1.set_ylabel('Intensidad')\n",
    "# ax1.grid()\n",
    "# for i, label in enumerate(anotaciones_):\n",
    "#     plt.annotate(label, (marker_x_[i] + 0.1, marker_y_[i]))"
   ]
  },
  {
   "cell_type": "code",
   "execution_count": null,
   "metadata": {},
   "outputs": [],
   "source": [
    "# #Lista de pixeles que se descartan al no estar en el espectro\n",
    "# Pixnon_2 = []\n",
    "\n",
    "# #Se obtiene el espectro limpio sin los píxeles diferentes\n",
    "# marker_xl_,marker_yl_, index_xl_,index_yl_,anotacionesl_ = DataCatalogue(Pixnon_2 + Pixnon_1,marker_x_,marker_y_, index_x_,index_y_,anotaciones_)\n",
    "    \n",
    "# #Grafica del espectro sin las líneas que no pertenecen  \n",
    "# fig2, ax2 = plt.subplots(1,1, figsize=(12,7))\n",
    "# ax2.plot(pixel,intensidad)\n",
    "# ax2.scatter(marker_xl_,marker_yl_,marker='.',color = 'red')\n",
    "# ax2.set_title('Espectro obtenido catalogado')\n",
    "# ax2.set_xlabel('Pixel')\n",
    "# ax2.set_ylabel('Intensidad')\n",
    "# ax2.grid()\n",
    "# for i, label in enumerate(anotacionesl_):\n",
    "#     plt.annotate(label, (marker_xl_[i] + 0.1, marker_yl_[i]))\n"
   ]
  },
  {
   "cell_type": "code",
   "execution_count": null,
   "metadata": {},
   "outputs": [],
   "source": [
    "# #Longitudes de onda observadas en el catalogo de los píxeles que sí se lograron ver, ingreso manual\n",
    "# catalog_long_2 = [  ]\n",
    "\n",
    "# #Lista de líneas sospechosas que sí están en el espectro pero no catalogadas\n",
    "# Pixesp_2 = [    ]\n",
    "\n",
    "# #Lista de líneas completamente sospechosas \n",
    "# Pixsus_2 = [    ]\n",
    "\n",
    "# #Unir dataframes de líneas en el catalogo\n",
    "# DataFit_2 = MakeDataFrame(len(marker_xl),catalog_long_2,index_xl, index_yl)\n",
    "# DataFit_2"
   ]
  },
  {
   "cell_type": "markdown",
   "metadata": {},
   "source": [
    "#### Lineas para analizar individualmente"
   ]
  },
  {
   "cell_type": "code",
   "execution_count": null,
   "metadata": {},
   "outputs": [],
   "source": [
    "# #NO CONFUNDIR, son lineas ya analizadas, es para poder hacer un análisis más detallado a las lineas que por la intensidad toca separarlas del análisis general\n",
    "# pixsus = [] \n",
    "\n",
    "# pixel_,intensidad_,marker_x_,marker_y_, index_x_,index_y_,anotaciones_ = DataProcess(r\"C:\\Users\\clauw\\Documents\\Programming\\Torium-Operation\\th 6200 orden 2 spec.txt\",275,10)\n",
    "# marker_x_,marker_y_, index_x_,index_y_,anotaciones_ = DataCatalogue(pixsus,marker_x_,marker_y_, index_x_,index_y_,anotaciones_)\n",
    "\n",
    "# catalog_long_2 = []\n",
    "# DataFit_21 = MakeDataFrame(len(marker_x_),catalog_long_2,index_x_,index_y_)\n",
    "\n",
    "# DataFit_21"
   ]
  },
  {
   "cell_type": "markdown",
   "metadata": {},
   "source": [
    "#### Lineas especiales"
   ]
  },
  {
   "cell_type": "code",
   "execution_count": null,
   "metadata": {},
   "outputs": [],
   "source": [
    "# # Solo descomentar si es necesario un análisis con gráfica para ver el ajuste\n",
    "# pixsus = [] #lineas ya analizadas\n",
    "\n",
    "# pixel_,intensidad_,marker_x_,marker_y_, index_x_,index_y_,anotaciones_ = DataProcess(r\"C:\\Users\\clauw\\Documents\\Programming\\Torium-Operation\\th 6200 orden 2 spec.txt\",275,18)\n",
    "# marker_x_,marker_y_, index_x_,index_y_,anotaciones_ = DataCatalogue(pixsus,marker_x_,marker_y_, index_x_,index_y_,anotaciones_)\n",
    "\n",
    "\n",
    "# def MakeDataFrame(rango,catalog_long,index_x_,index_y_):\n",
    "\n",
    "#     Datafit = pd.DataFrame()\n",
    "#     lineasfit = []\n",
    "#     alturafit = []\n",
    "\n",
    "#     for i in range(0,rango):\n",
    "#         linea,altura, fity, fitx, x, y = AjusteLorentz(i,index_x_,index_y_)\n",
    "#         lineasfit.append(linea)\n",
    "#         alturafit.append(altura)\n",
    "    \n",
    "\n",
    "#     Datafit['Pixel'] = lineasfit\n",
    "#     Datafit['Intensidad'] = alturafit\n",
    "#     Datafit['Catalogo longitud'] = catalog_long\n",
    "\n",
    "#     return Datafit, fity, fitx, x, y\n",
    "\n",
    "# catalog_long_2 = []\n",
    "# DataFit_2, fity, fitx, x, y = MakeDataFrame(len(marker_x_),catalog_long_2,index_x_,index_y_)\n",
    "\n",
    "# fig, ax = plt.subplots(1,1, figsize=(10,5))\n",
    "# ax.scatter(x,y)"
   ]
  },
  {
   "cell_type": "markdown",
   "metadata": {},
   "source": [
    "### Unir todo en un dataframe"
   ]
  },
  {
   "cell_type": "code",
   "execution_count": null,
   "metadata": {},
   "outputs": [],
   "source": [
    "# DataFit = pd.concat([DataFit_1,DataFit_2], axis=0).sort_values(by='Pixel', ascending=True, na_position='first').reset_index(drop=True)\n",
    "# DataFit"
   ]
  },
  {
   "cell_type": "markdown",
   "metadata": {},
   "source": [
    "### Gráfica del espectro con las líneas encontradas "
   ]
  },
  {
   "cell_type": "code",
   "execution_count": null,
   "metadata": {},
   "outputs": [],
   "source": [
    "# #Solo utilizar al final cuando ya se esté segura del análisis\n",
    "# Pixnon = []\n",
    "# markerx,markery, indexx,indexy,anotaciones = DataCatalogue(Pixnon ,marker_x,marker_y, index_x,index_y,anotaciones)\n",
    "\n",
    "# #Grafica con aquellas encontradas\n",
    "# fig, ax = plt.subplots(1,1, figsize=(12,7))\n",
    "# ax.plot(pixel,intensidad, color='purple')\n",
    "# ax.scatter(markerx,markery,marker='.',color = 'orange')\n",
    "# ax.set_title('Espectro obtenido luego del análisis')\n",
    "# ax.set_xlabel('Pixel (pix)')\n",
    "# ax.set_ylabel('Intensidad')\n",
    "# ax.grid()\n",
    "# for i, label in enumerate(anotaciones):\n",
    "#     plt.annotate(label, (markerx[i] + 0.1, markery[i]))\n",
    "\n",
    "# #fig.savefig('th 6200 orden 2 espectro tratado.jpg')"
   ]
  },
  {
   "cell_type": "markdown",
   "metadata": {},
   "source": [
    "### Regresión lineal de todos los puntos"
   ]
  },
  {
   "cell_type": "code",
   "execution_count": null,
   "metadata": {},
   "outputs": [],
   "source": [
    "# ym,_x,res,xres,param = LinearFit(DataFit['Pixel'],DataFit['Catalogo longitud'], 3) \n",
    "\n",
    "# #Gráfico con residuos\n",
    "# fig3, axis3 = plt.subplots(2,1, figsize = (9, 7), gridspec_kw = {\"height_ratios\":[2, 1]})\n",
    "# ax1 = axis3[0]\n",
    "# ax2 = axis3[1]\n",
    "\n",
    "# fig3.suptitle(r'Relación entre píxel y longitud de onda para las líneas encontradas',fontsize=14)\n",
    "\n",
    "# ax1.scatter(DataFit['Pixel'],DataFit['Catalogo longitud'], color='orange')\n",
    "# ax1.plot(_x,ym,'--',color='purple')\n",
    "# ax1.set_ylabel(r\"Longitud de onda $(\\mathring{A})$\",fontsize=14)\n",
    "# ax1.set_xlabel(r'pixel',fontsize=14)\n",
    "# ax1.grid()\n",
    "# ax1.tick_params(axis='both',labelsize=13)\n",
    "\n",
    "# ax2.scatter(xres,res,label = 'Residuos',color='orange')\n",
    "# ax2.grid()\n",
    "# ax2.tick_params(axis='both',labelsize=13)\n",
    "# ax2.legend()\n",
    "# ax2.set_xlabel(r'Pixel',fontsize=14)\n",
    "# ax2.set_ylabel(r'$(\\mathring{A})$',fontsize=14)\n",
    "\n",
    "# fig3.tight_layout()\n",
    "# #fig3.savefig('th 6200 regresion lineal.jpg')"
   ]
  },
  {
   "cell_type": "markdown",
   "metadata": {},
   "source": [
    "### Análisis líneas sospechosas"
   ]
  },
  {
   "cell_type": "code",
   "execution_count": null,
   "metadata": {},
   "outputs": [],
   "source": [
    "# #Ver y tener los diferentes valores encontrados en el catalogo de nist\n",
    "# LineasSos_1 = LineasSus(Pixsus_1,param)\n",
    "# LineasSos_1['Catalogo longitud orden 1'] = []\n",
    "# LineasSos_1['Elemento orden 1'] = [ ]\n",
    "# LineasSos_1['Catalogo longitud orden 3'] = []\n",
    "# LineasSos_1['Elemento orden 3'] = [ ]\n",
    "\n",
    "# LineasSos_2 = LineasSus(Pixsus_2,param)\n",
    "# LineasSos_2['Catalogo longitud orden 1'] = []\n",
    "# LineasSos_2['Elemento orden 1'] = [ ]\n",
    "# LineasSos_2['Catalogo longitud orden 3'] = []\n",
    "# LineasSos_2['Elemento orden 3'] = [ ]\n",
    "\n",
    "# LineasSos_ = pd.concat([LineasSos_1,LineasSos_2], axis=0).sort_values(by='Pixel', ascending=True, na_position='first').reset_index(drop=True)\n",
    "# LineasSos_"
   ]
  },
  {
   "cell_type": "code",
   "execution_count": null,
   "metadata": {},
   "outputs": [],
   "source": [
    "# # Por si se necesita quitar algun elemento None del dataframe .drop([2],axis=0).reset_index(drop=True)\n",
    "# LineasSos_1['Catalogo longitud'] = []\n",
    "# LineasSos_1['Elemento'] = [ ]\n",
    "\n",
    "# LineasSos_2['Catalogo longitud'] = []\n",
    "# LineasSos_2['Elemento'] = []\n",
    "\n",
    "# LineasSos = pd.concat([LineasSos_1,LineasSos_2], axis=0).sort_values(by='Pixel', ascending=True, na_position='first').reset_index(drop=True)\n",
    "# LineasSos['Longitud Calculada'] = []\n",
    "# LineasSos\n",
    "\n",
    "# #Código para imprimir la tabla de latex\n",
    "# #print(LineasSos.to_latex(index=False))"
   ]
  },
  {
   "cell_type": "markdown",
   "metadata": {},
   "source": [
    "### Revisar residuos de lineas sospechosas"
   ]
  },
  {
   "cell_type": "code",
   "execution_count": null,
   "metadata": {},
   "outputs": [],
   "source": [
    "# #Calcular residuos de las líneas sospechosas\n",
    "# nist = LineasSos['Catalogo longitud']\n",
    "# calc = LineasSos['Longitud Calculada']\n",
    "# residuos = calc - nist\n",
    "\n",
    "# pixel = LineasSos['Pixel']\n",
    "\n",
    "# #Etiquetas de elementos\n",
    "# label = [each for each in LineasSos['Elemento']]\n",
    "\n",
    "# #Gráfico con residuos\n",
    "# figr, axr = plt.subplots(1,1, figsize=(7,5))\n",
    "\n",
    "# figr.suptitle(r'Residuos para las líneas sospechosas',fontsize=14)\n",
    "\n",
    "# axr.scatter(pixel,residuos,label = 'Residuos',color='orange')\n",
    "# axr.plot(pixel,np.linspace(0,0,len(residuos)),'--',color='purple')\n",
    "# axr.grid()\n",
    "# axr.legend()\n",
    "# axr.set_xlabel(r'Pixel',fontsize=14)\n",
    "# axr.set_ylabel(r'$(\\mathring{A})$',fontsize=14)\n",
    "\n",
    "# for j in range (0, len(label)):\n",
    "#     plt.annotate(label[j], (pixel[j], residuos[j]),fontsize=12)\n",
    "\n",
    "# #figr.savefig('Residuos th 6200.jpg')"
   ]
  }
 ],
 "metadata": {
  "kernelspec": {
   "display_name": "base",
   "language": "python",
   "name": "python3"
  },
  "language_info": {
   "codemirror_mode": {
    "name": "ipython",
    "version": 3
   },
   "file_extension": ".py",
   "mimetype": "text/x-python",
   "name": "python",
   "nbconvert_exporter": "python",
   "pygments_lexer": "ipython3",
   "version": "3.11.7"
  }
 },
 "nbformat": 4,
 "nbformat_minor": 2
}
